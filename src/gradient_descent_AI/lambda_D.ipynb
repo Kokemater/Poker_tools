{
 "cells": [
  {
   "cell_type": "code",
   "execution_count": 2,
   "metadata": {},
   "outputs": [
    {
     "data": {
      "text/plain": [
       "{'Sangre': np.float64(25.94711505510363),\n",
       " 'Orina': np.float64(48.54260735570092),\n",
       " 'Fluido intracelular': np.float64(137.29922735076843),\n",
       " 'Mar Mediterráneo': np.float64(12.533647324674355)}"
      ]
     },
     "execution_count": 2,
     "metadata": {},
     "output_type": "execute_result"
    }
   ],
   "source": [
    "import numpy as np\n",
    "# Constantes\n",
    "epsilon_0 = 8.854e-12  # F/m (permisividad del vacío)\n",
    "epsilon_r = 80  # Permisividad relativa del agua\n",
    "R = 8.314  # J/(mol·K) (constante de los gases)\n",
    "T = 298  # K (temperatura a 25°C)\n",
    "F = 96485  # C/mol (constante de Faraday)\n",
    "\n",
    "# Concentraciones de NaCl en mol/L (M)\n",
    "concentrations_M = {\n",
    "    \"Sangre\": 0.14,\n",
    "    \"Orina\": 0.04,\n",
    "    \"Fluido intracelular\": 0.005,\n",
    "    \"Mar Mediterráneo\": 0.6\n",
    "}\n",
    "\n",
    "# Cálculo de la longitud de Debye\n",
    "lambda_D_values = {}\n",
    "for medium, c_NaCl in concentrations_M.items():\n",
    "    I = c_NaCl  # Para NaCl, la fuerza iónica es igual a la concentración de NaCl\n",
    "    lambda_D = np.sqrt((epsilon_r * epsilon_0 * R * T) / (2 * F**2 * I))  # Longitud de Debye en metros\n",
    "    lambda_D_values[medium] = lambda_D * 1e9  # Convertir a nanómetros (nm)\n",
    "\n",
    "lambda_D_values\n"
   ]
  }
 ],
 "metadata": {
  "kernelspec": {
   "display_name": "Python 3",
   "language": "python",
   "name": "python3"
  },
  "language_info": {
   "codemirror_mode": {
    "name": "ipython",
    "version": 3
   },
   "file_extension": ".py",
   "mimetype": "text/x-python",
   "name": "python",
   "nbconvert_exporter": "python",
   "pygments_lexer": "ipython3",
   "version": "3.10.12"
  }
 },
 "nbformat": 4,
 "nbformat_minor": 2
}
