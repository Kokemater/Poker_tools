{
 "cells": [
  {
   "cell_type": "code",
   "execution_count": 2,
   "metadata": {},
   "outputs": [
    {
     "data": {
      "text/plain": [
       "8.207263035325129e-10"
      ]
     },
     "execution_count": 2,
     "metadata": {},
     "output_type": "execute_result"
    }
   ],
   "source": [
    "import math\n",
    "\n",
    "# Definimos las constantes\n",
    "epsilon_r = 80  # permitividad relativa del agua\n",
    "epsilon_0 = 8.854 * 10**-12  # permitividad del vacío en C^2 / N·m²\n",
    "k_B = 1.38 * 10**-23  # constante de Boltzmann en J/K\n",
    "T = 298.15  # temperatura en K\n",
    "F = 96485  # constante de Faraday en C/mol\n",
    "\n",
    "# Ejemplo de fuerza iónica, por ejemplo 0.274 mol/L (HCl)\n",
    "I = 140  # fuerza iónica en mol/L\n",
    "\n",
    "# Calculamos la longitud de Debye\n",
    "# Utilizando la fórmula solicitada: sqrt(epsilon_r * epsilon_0 * R * T / (2 * F^2 * I))\n",
    "\n",
    "R = 8.314  # Constante de los gases en J/mol·K\n",
    "\n",
    "# Recalculamos la longitud de Debye utilizando la nueva fórmula\n",
    "lambda_D_new = math.sqrt((epsilon_r * epsilon_0 * R * T) / (2 * F**2 * I))\n",
    "\n",
    "lambda_D_new\n"
   ]
  }
 ],
 "metadata": {
  "kernelspec": {
   "display_name": "Python 3",
   "language": "python",
   "name": "python3"
  },
  "language_info": {
   "codemirror_mode": {
    "name": "ipython",
    "version": 3
   },
   "file_extension": ".py",
   "mimetype": "text/x-python",
   "name": "python",
   "nbconvert_exporter": "python",
   "pygments_lexer": "ipython3",
   "version": "3.10.12"
  }
 },
 "nbformat": 4,
 "nbformat_minor": 2
}
